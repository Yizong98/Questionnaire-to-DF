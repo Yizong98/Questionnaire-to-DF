{
 "cells": [
  {
   "cell_type": "code",
   "execution_count": 1,
   "metadata": {},
   "outputs": [],
   "source": [
    "import pandas as pd\n",
    "import numpy as np"
   ]
  },
  {
   "cell_type": "code",
   "execution_count": 56,
   "metadata": {},
   "outputs": [],
   "source": [
    "def questions_input():\n",
    "    questions = [\"What major are you?\",\n",
    "    \"How often do you read?\",\n",
    "    \"What kind of books do you read?\",\n",
    "    \"Through what medium do you prefer to read?\",\n",
    "    \"Do you want to read more?\",\n",
    "    \"Why do you like to read?\",\n",
    "    \"What stops you from reading if you want to?\",\n",
    "    \"Would you prefer to read alone or in a book club / community?\",\n",
    "    \"Would you like to discuss the contents of the book? If yes, while or after reading?\",\n",
    "    \"Do you have any ideas for what would help you to read more?\"]\n",
    "    results = []\n",
    "    for q in questions:\n",
    "        val = input(q)\n",
    "        results.append(val)\n",
    "    return results"
   ]
  },
  {
   "cell_type": "code",
   "execution_count": 57,
   "metadata": {},
   "outputs": [],
   "source": [
    "def questions_toframe(results_list):\n",
    "    question_frame = pd.DataFrame([],columns=list(range(1,11)))\n",
    "    for res in results_list:\n",
    "        question_frame = pd.concat([question_frame,pd.DataFrame([res],columns=list(range(1,11)))],axis=0)\n",
    "    return question_frame\n",
    "        "
   ]
  },
  {
   "cell_type": "code",
   "execution_count": 58,
   "metadata": {},
   "outputs": [],
   "source": [
    "def export_tocsv(question_frame):\n",
    "    return question_frame.to_csv(\"questions.csv\",index=False)"
   ]
  },
  {
   "cell_type": "code",
   "execution_count": 59,
   "metadata": {},
   "outputs": [],
   "source": [
    "def create_answers():\n",
    "    results = []\n",
    "    tracker = 0\n",
    "    while (True):\n",
    "        tracker += 1\n",
    "        val = input(f\"Please load answers #{tracker}, type 'yes' to begin or type 'quit' to exit\")\n",
    "        if val == \"quit\":\n",
    "            break;\n",
    "        results.append(questions_input())\n",
    "    export_tocsv(questions_toframe(results))\n",
    "    print(\"Save Successfully. Check your folder\")\n",
    "    return\n",
    "        \n",
    "        \n",
    "        "
   ]
  },
  {
   "cell_type": "code",
   "execution_count": 60,
   "metadata": {},
   "outputs": [
    {
     "name": "stdout",
     "output_type": "stream",
     "text": [
      "Please load answers #1, type 'yes' to begin or type 'quit' to exityes\n",
      "What major are you?hshshhs\n",
      "How often do you read?hshshshs\n",
      "What kind of books do you read?hshshsh\n",
      "Through what medium do you prefer to read?shshhs\n",
      "Do you want to read more?shshhshs\n",
      "Why do you like to read?shhshs\n",
      "What stops you from reading if you want to?hshs\n",
      "Would you prefer to read alone or in a book club / community?hh\n",
      "Would you like to discuss the contents of the book? If yes, while or after reading?hh\n",
      "Do you have any ideas for what would help you to read more?h\n",
      "Please load answers #2, type 'yes' to begin or type 'quit' to exith\n",
      "What major are you?hnsjshsjs\n",
      "How often do you read?hshshhs\n",
      "What kind of books do you read?hshshshs\n",
      "Through what medium do you prefer to read?h\n",
      "Do you want to read more?\n",
      "Why do you like to read?jjsjjs\n",
      "What stops you from reading if you want to?jjjj\n",
      "Would you prefer to read alone or in a book club / community?jjsjsjs\n",
      "Would you like to discuss the contents of the book? If yes, while or after reading?\n",
      "Do you have any ideas for what would help you to read more?\n",
      "Please load answers #3, type 'yes' to begin or type 'quit' to exit\n",
      "What major are you?sss\n",
      "How often do you read?sss\n",
      "What kind of books do you read?s\n",
      "Through what medium do you prefer to read?\n",
      "Do you want to read more?ss\n",
      "Why do you like to read?\n",
      "What stops you from reading if you want to?\n",
      "Would you prefer to read alone or in a book club / community?ss\n",
      "Would you like to discuss the contents of the book? If yes, while or after reading?s\n",
      "Do you have any ideas for what would help you to read more?s\n",
      "Please load answers #4, type 'yes' to begin or type 'quit' to exitquit\n",
      "Save Successfully. Check your folder\n"
     ]
    }
   ],
   "source": [
    "create_answers()"
   ]
  },
  {
   "cell_type": "code",
   "execution_count": 44,
   "metadata": {},
   "outputs": [
    {
     "data": {
      "text/html": [
       "<div>\n",
       "<style scoped>\n",
       "    .dataframe tbody tr th:only-of-type {\n",
       "        vertical-align: middle;\n",
       "    }\n",
       "\n",
       "    .dataframe tbody tr th {\n",
       "        vertical-align: top;\n",
       "    }\n",
       "\n",
       "    .dataframe thead th {\n",
       "        text-align: right;\n",
       "    }\n",
       "</style>\n",
       "<table border=\"1\" class=\"dataframe\">\n",
       "  <thead>\n",
       "    <tr style=\"text-align: right;\">\n",
       "      <th></th>\n",
       "      <th>1</th>\n",
       "      <th>2</th>\n",
       "      <th>3</th>\n",
       "      <th>4</th>\n",
       "      <th>5</th>\n",
       "      <th>6</th>\n",
       "      <th>7</th>\n",
       "      <th>8</th>\n",
       "      <th>9</th>\n",
       "      <th>10</th>\n",
       "    </tr>\n",
       "  </thead>\n",
       "  <tbody>\n",
       "  </tbody>\n",
       "</table>\n",
       "</div>"
      ],
      "text/plain": [
       "Empty DataFrame\n",
       "Columns: [1, 2, 3, 4, 5, 6, 7, 8, 9, 10]\n",
       "Index: []"
      ]
     },
     "metadata": {},
     "output_type": "display_data"
    },
    {
     "data": {
      "text/html": [
       "<div>\n",
       "<style scoped>\n",
       "    .dataframe tbody tr th:only-of-type {\n",
       "        vertical-align: middle;\n",
       "    }\n",
       "\n",
       "    .dataframe tbody tr th {\n",
       "        vertical-align: top;\n",
       "    }\n",
       "\n",
       "    .dataframe thead th {\n",
       "        text-align: right;\n",
       "    }\n",
       "</style>\n",
       "<table border=\"1\" class=\"dataframe\">\n",
       "  <thead>\n",
       "    <tr style=\"text-align: right;\">\n",
       "      <th></th>\n",
       "      <th>1</th>\n",
       "      <th>2</th>\n",
       "      <th>3</th>\n",
       "      <th>4</th>\n",
       "      <th>5</th>\n",
       "      <th>6</th>\n",
       "      <th>7</th>\n",
       "      <th>8</th>\n",
       "      <th>9</th>\n",
       "      <th>10</th>\n",
       "    </tr>\n",
       "  </thead>\n",
       "  <tbody>\n",
       "    <tr>\n",
       "      <th>0</th>\n",
       "      <td>1</td>\n",
       "      <td>2</td>\n",
       "      <td>3</td>\n",
       "      <td>4</td>\n",
       "      <td>5</td>\n",
       "      <td>6</td>\n",
       "      <td>7</td>\n",
       "      <td>8</td>\n",
       "      <td>9</td>\n",
       "      <td>10</td>\n",
       "    </tr>\n",
       "    <tr>\n",
       "      <th>0</th>\n",
       "      <td>haha</td>\n",
       "      <td>haha</td>\n",
       "      <td>haha</td>\n",
       "      <td>haha</td>\n",
       "      <td>haha</td>\n",
       "      <td>haha</td>\n",
       "      <td>haha</td>\n",
       "      <td>haha</td>\n",
       "      <td>haha</td>\n",
       "      <td>haha</td>\n",
       "    </tr>\n",
       "  </tbody>\n",
       "</table>\n",
       "</div>"
      ],
      "text/plain": [
       "     1     2     3     4     5     6     7     8     9     10\n",
       "0     1     2     3     4     5     6     7     8     9    10\n",
       "0  haha  haha  haha  haha  haha  haha  haha  haha  haha  haha"
      ]
     },
     "execution_count": 44,
     "metadata": {},
     "output_type": "execute_result"
    }
   ],
   "source": [
    "test = [[1,2,3,4,5,6,7,8,9,10],[\"haha\"]*10]\n",
    "questions_toframe(test)"
   ]
  },
  {
   "cell_type": "code",
   "execution_count": 51,
   "metadata": {},
   "outputs": [
    {
     "data": {
      "text/html": [
       "<div>\n",
       "<style scoped>\n",
       "    .dataframe tbody tr th:only-of-type {\n",
       "        vertical-align: middle;\n",
       "    }\n",
       "\n",
       "    .dataframe tbody tr th {\n",
       "        vertical-align: top;\n",
       "    }\n",
       "\n",
       "    .dataframe thead th {\n",
       "        text-align: right;\n",
       "    }\n",
       "</style>\n",
       "<table border=\"1\" class=\"dataframe\">\n",
       "  <thead>\n",
       "    <tr style=\"text-align: right;\">\n",
       "      <th></th>\n",
       "      <th>1</th>\n",
       "      <th>2</th>\n",
       "      <th>3</th>\n",
       "      <th>4</th>\n",
       "      <th>5</th>\n",
       "      <th>6</th>\n",
       "      <th>7</th>\n",
       "      <th>8</th>\n",
       "      <th>9</th>\n",
       "      <th>10</th>\n",
       "    </tr>\n",
       "  </thead>\n",
       "  <tbody>\n",
       "  </tbody>\n",
       "</table>\n",
       "</div>"
      ],
      "text/plain": [
       "Empty DataFrame\n",
       "Columns: [1, 2, 3, 4, 5, 6, 7, 8, 9, 10]\n",
       "Index: []"
      ]
     },
     "metadata": {},
     "output_type": "display_data"
    }
   ],
   "source": [
    "export_tocsv(questions_toframe(test))"
   ]
  },
  {
   "cell_type": "code",
   "execution_count": null,
   "metadata": {},
   "outputs": [],
   "source": []
  }
 ],
 "metadata": {
  "kernelspec": {
   "display_name": "Python 3",
   "language": "python",
   "name": "python3"
  },
  "language_info": {
   "codemirror_mode": {
    "name": "ipython",
    "version": 3
   },
   "file_extension": ".py",
   "mimetype": "text/x-python",
   "name": "python",
   "nbconvert_exporter": "python",
   "pygments_lexer": "ipython3",
   "version": "3.7.0"
  }
 },
 "nbformat": 4,
 "nbformat_minor": 2
}
